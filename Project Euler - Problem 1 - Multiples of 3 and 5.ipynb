{
 "cells": [
  {
   "cell_type": "markdown",
   "metadata": {},
   "source": [
    "# Project Euler\n",
    "## Problem 1\n",
    "## Multiples of 3 and 5\n",
    "\n",
    "If we list all the natural numbers below 10 that are multiples of 3 or 5, we get 3, 5, 6 and 9. The sum of these multiples is 23.\n",
    "\n",
    "Find the sum of all the multiples of 3 or 5 below 1000.\n",
    "\n",
    "**Correct answer: 233168**"
   ]
  },
  {
   "cell_type": "code",
   "execution_count": 5,
   "metadata": {},
   "outputs": [
    {
     "name": "stdout",
     "output_type": "stream",
     "text": [
      "233168\n"
     ]
    }
   ],
   "source": [
    "multiple_sum = 0\n",
    "\n",
    "range_to_check = range(1,1000)\n",
    "\n",
    "for element in range_to_check:\n",
    "    if element % 3 == 0:\n",
    "        multiple_sum += element\n",
    "    elif element % 5 == 0:\n",
    "        multiple_sum += element\n",
    "\n",
    "print(multiple_sum)\n",
    "        "
   ]
  },
  {
   "cell_type": "markdown",
   "metadata": {},
   "source": [
    "I will try to improve the code above by allowing the user to enter the range, and multiples (in a Python list), and looping through the multiples rather than using a conditional logic step for each multiple."
   ]
  },
  {
   "cell_type": "code",
   "execution_count": 13,
   "metadata": {},
   "outputs": [
    {
     "name": "stdout",
     "output_type": "stream",
     "text": [
      "233168\n"
     ]
    }
   ],
   "source": [
    "multiple_sum = 0\n",
    "\n",
    "bottom_of_range = 1\n",
    "\n",
    "top_of_range = 1000\n",
    "\n",
    "range_to_check = range(bottom_of_range,top_of_range)\n",
    "\n",
    "factor_list = [3,5]\n",
    "\n",
    "multiple_list =[]\n",
    "\n",
    "for factor in factor_list:\n",
    "    for element in range_to_check:\n",
    "        if element % factor == 0 and element not in multiple_list:\n",
    "            multiple_list.append(element)\n",
    "            \n",
    "print(sum(multiple_list))"
   ]
  },
  {
   "cell_type": "code",
   "execution_count": null,
   "metadata": {},
   "outputs": [],
   "source": []
  }
 ],
 "metadata": {
  "kernelspec": {
   "display_name": "Python 3",
   "language": "python",
   "name": "python3"
  },
  "language_info": {
   "codemirror_mode": {
    "name": "ipython",
    "version": 3
   },
   "file_extension": ".py",
   "mimetype": "text/x-python",
   "name": "python",
   "nbconvert_exporter": "python",
   "pygments_lexer": "ipython3",
   "version": "3.7.3"
  }
 },
 "nbformat": 4,
 "nbformat_minor": 2
}
